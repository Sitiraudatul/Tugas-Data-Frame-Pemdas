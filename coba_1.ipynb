{
 "cells": [
  {
   "cell_type": "code",
   "execution_count": 1,
   "metadata": {},
   "outputs": [
    {
     "name": "stdout",
     "output_type": "stream",
     "text": [
      "Hello World\n"
     ]
    }
   ],
   "source": [
    "print(\"Hello World\")"
   ]
  },
  {
   "cell_type": "code",
   "execution_count": null,
   "metadata": {},
   "outputs": [],
   "source": []
  },
  {
   "cell_type": "code",
   "execution_count": 2,
   "metadata": {},
   "outputs": [
    {
     "name": "stdout",
     "output_type": "stream",
     "text": [
      "aku kuliah di ITENAS\n"
     ]
    }
   ],
   "source": [
    "a = \"ITENAS\" #string\n",
    "b = 10 #integer\n",
    "c = 3.14 #float\n",
    "d = True #boolean\n",
    "\n",
    "print(\"aku kuliah di\",a)"
   ]
  },
  {
   "cell_type": "code",
   "execution_count": 3,
   "metadata": {},
   "outputs": [
    {
     "name": "stdout",
     "output_type": "stream",
     "text": [
      "Nama: Dila Usia: 19\n",
      "nama: Dila, usia: 19\n"
     ]
    }
   ],
   "source": [
    "#menggunakan koma\n",
    "nama =\"Dila\" \n",
    "usia = 19\n",
    "print(\"Nama:\",nama,\"Usia:\",usia)\n",
    "\n",
    "#menggunakan operator tambah tapi hanya bisa membaca string\n",
    "print(\"nama: \" +nama+ \", usia: \" + str(usia))\n"
   ]
  },
  {
   "cell_type": "code",
   "execution_count": 1,
   "metadata": {},
   "outputs": [
    {
     "name": "stdout",
     "output_type": "stream",
     "text": [
      "Kondisi: Normal weight\n",
      "IMT: 18.82\n"
     ]
    }
   ],
   "source": [
    "def hitung_imt(weight, height):\n",
    "    height = height / 100  # Convert height from cm to meters\n",
    "    imt = weight / height**2  # Calculate BMI\n",
    "\n",
    "    # Determine weight category\n",
    "    if imt < 18.5:\n",
    "        kondisi = 'Underweight'\n",
    "    elif 18.5 <= imt < 25:\n",
    "        kondisi = 'Normal weight'\n",
    "    elif 25 <= imt < 30:\n",
    "        kondisi = 'Overweight'\n",
    "\n",
    "    \n",
    "    return imt, kondisi\n",
    "\n",
    "# Input from user\n",
    "weight = int(input('Masukkan berat badan (kg): '))\n",
    "height = int(input('Masukkan tinggi badan (cm): '))\n",
    "\n",
    "# Calculate BMI and get condition\n",
    "imt, kondisi = hitung_imt(weight, height)\n",
    "\n",
    "# Output results\n",
    "print(f'Kondisi: {kondisi}')\n",
    "print(f'IMT: {imt:.2f}')  # Format IMT to 2 decimal places\n"
   ]
  },
  {
   "cell_type": "code",
   "execution_count": null,
   "metadata": {},
   "outputs": [
    {
     "name": "stdout",
     "output_type": "stream",
     "text": [
      "siti raudatul\n",
      "SitiRaudatul\n",
      "SITI RAUDATUL\n"
     ]
    }
   ],
   "source": [
    "#snake case\n",
    "nama_lengkap = \"siti raudatul\"\n",
    "#CamelCase\n",
    "NamaLengkap = \"SitiRaudatul\"\n",
    "#All Caps\n",
    "NAMA_LENGKAP = \"SITI RAUDATUL\"\n",
    "print(nama_lengkap)\n",
    "print(NamaLengkap)\n",
    "print(NAMA_LENGKAP)\n"
   ]
  },
  {
   "cell_type": "code",
   "execution_count": null,
   "metadata": {},
   "outputs": [
    {
     "name": "stdout",
     "output_type": "stream",
     "text": [
      "Nama: Dila, usia: 19\n",
      "nama: Dila, usia: 19\n",
      "nama: Dila, usia: 19\n"
     ]
    }
   ],
   "source": [
    "#String formatting\n",
    "nama =\"Dila\"\n",
    "usia = 19\n",
    "print(\"Nama: {}, usia: {}\".format(nama,usia))\n",
    "\n",
    "#F-Strings\n",
    "nama =\"Dila\"\n",
    "usia = 19\n",
    "print(f\"nama: {nama}, usia: {usia}\")\n",
    "\n",
    "#Metode printf\n",
    "nama =\"Dila\"\n",
    "usia = 19\n",
    "print(\"nama: %s, usia: %d\" %(nama,usia))"
   ]
  },
  {
   "cell_type": "code",
   "execution_count": null,
   "metadata": {},
   "outputs": [
    {
     "name": "stdout",
     "output_type": "stream",
     "text": [
      "Nama saya: %s, \n",
      "usia: %d\n"
     ]
    },
    {
     "ename": "TypeError",
     "evalue": "unsupported operand type(s) for %: 'NoneType' and 'tuple'",
     "output_type": "error",
     "traceback": [
      "\u001b[1;31m---------------------------------------------------------------------------\u001b[0m",
      "\u001b[1;31mTypeError\u001b[0m                                 Traceback (most recent call last)",
      "\u001b[1;32mc:\\pemdas\\coba_1.ipynb Cell 7\u001b[0m line \u001b[0;36m4\n\u001b[0;32m      <a href='vscode-notebook-cell:/c%3A/pemdas/coba_1.ipynb#W6sZmlsZQ%3D%3D?line=1'>2</a>\u001b[0m nama \u001b[39m=\u001b[39m\u001b[39m\"\u001b[39m\u001b[39mDila\u001b[39m\u001b[39m\"\u001b[39m\n\u001b[0;32m      <a href='vscode-notebook-cell:/c%3A/pemdas/coba_1.ipynb#W6sZmlsZQ%3D%3D?line=2'>3</a>\u001b[0m usia \u001b[39m=\u001b[39m \u001b[39m19\u001b[39m\n\u001b[1;32m----> <a href='vscode-notebook-cell:/c%3A/pemdas/coba_1.ipynb#W6sZmlsZQ%3D%3D?line=3'>4</a>\u001b[0m \u001b[39mprint\u001b[39;49m(\u001b[39m\"\u001b[39;49m\u001b[39mNama saya: \u001b[39;49m\u001b[39m%s\u001b[39;49;00m\u001b[39m, \u001b[39;49m\u001b[39m\\n\u001b[39;49;00m\u001b[39musia: \u001b[39;49m\u001b[39m%d\u001b[39;49;00m\u001b[39m\"\u001b[39;49m)\u001b[39m%\u001b[39;49m(nama,usia)\n",
      "\u001b[1;31mTypeError\u001b[0m: unsupported operand type(s) for %: 'NoneType' and 'tuple'"
     ]
    }
   ],
   "source": [
    "#agar print nilainya turun kebawah\n",
    "nama =\"Dila\"\n",
    "usia = 19\n",
    "print(\"Nama saya: %s \\nusia: %d\")%(nama,usia)\n"
   ]
  },
  {
   "cell_type": "code",
   "execution_count": null,
   "metadata": {},
   "outputs": [
    {
     "ename": "ValueError",
     "evalue": "invalid literal for int() with base 10: 'd'",
     "output_type": "error",
     "traceback": [
      "\u001b[1;31m---------------------------------------------------------------------------\u001b[0m",
      "\u001b[1;31mValueError\u001b[0m                                Traceback (most recent call last)",
      "\u001b[1;32mc:\\pemdas\\coba_1.ipynb Cell 8\u001b[0m line \u001b[0;36m5\n\u001b[0;32m      <a href='vscode-notebook-cell:/c%3A/pemdas/coba_1.ipynb#X10sZmlsZQ%3D%3D?line=2'>3</a>\u001b[0m kelas \u001b[39m=\u001b[39m \u001b[39minput\u001b[39m(\u001b[39m\"\u001b[39m\u001b[39mMasukkan kelas: \u001b[39m\u001b[39m\"\u001b[39m)\n\u001b[0;32m      <a href='vscode-notebook-cell:/c%3A/pemdas/coba_1.ipynb#X10sZmlsZQ%3D%3D?line=3'>4</a>\u001b[0m Mata_Kuliah \u001b[39m=\u001b[39m \u001b[39minput\u001b[39m(\u001b[39m\"\u001b[39m\u001b[39mMata Kuliah\u001b[39m\u001b[39m\"\u001b[39m)\n\u001b[1;32m----> <a href='vscode-notebook-cell:/c%3A/pemdas/coba_1.ipynb#X10sZmlsZQ%3D%3D?line=4'>5</a>\u001b[0m usia \u001b[39m=\u001b[39m \u001b[39mint\u001b[39;49m(\u001b[39minput\u001b[39;49m(\u001b[39m\"\u001b[39;49m\u001b[39mberapa usia anda\u001b[39;49m\u001b[39m\"\u001b[39;49m))\n\u001b[0;32m      <a href='vscode-notebook-cell:/c%3A/pemdas/coba_1.ipynb#X10sZmlsZQ%3D%3D?line=5'>6</a>\u001b[0m berat_badan \u001b[39m=\u001b[39m \u001b[39mfloat\u001b[39m(\u001b[39minput\u001b[39m(\u001b[39m\"\u001b[39m\u001b[39mBerapa berat badan anda\u001b[39m\u001b[39m\"\u001b[39m))\n\u001b[0;32m      <a href='vscode-notebook-cell:/c%3A/pemdas/coba_1.ipynb#X10sZmlsZQ%3D%3D?line=7'>8</a>\u001b[0m \u001b[39mprint\u001b[39m(\u001b[39mf\u001b[39m\u001b[39m\"\u001b[39m\u001b[39mNama saya \u001b[39m\u001b[39m{\u001b[39;00mnama\u001b[39m}\u001b[39;00m\u001b[39m\\n\u001b[39;00m\u001b[39m Saya kelas \u001b[39m\u001b[39m{\u001b[39;00mkelas\u001b[39m}\u001b[39;00m\u001b[39m\\n\u001b[39;00m\u001b[39m Saya sedang belajar mata kuliah \u001b[39m\u001b[39m{\u001b[39;00mMata_Kuliah\u001b[39m}\u001b[39;00m\u001b[39m\\n\u001b[39;00m\u001b[39m Usia saya \u001b[39m\u001b[39m{\u001b[39;00musia\u001b[39m}\u001b[39;00m\u001b[39m\\n\u001b[39;00m\u001b[39m berat badan \u001b[39m\u001b[39m{\u001b[39;00mberat_badan\u001b[39m}\u001b[39;00m\u001b[39m\"\u001b[39m )\n",
      "\u001b[1;31mValueError\u001b[0m: invalid literal for int() with base 10: 'd'"
     ]
    }
   ],
   "source": [
    "#Input biodata\n",
    "nama = input(\"Masukkan nama anda : \")\n",
    "kelas = input(\"Masukkan kelas: \")\n",
    "Mata_Kuliah = input(\"Mata Kuliah\")\n",
    "usia = int(input(\"berapa usia anda\"))\n",
    "berat_badan = float(input(\"Berapa berat badan anda\"))\n",
    "\n",
    "print(f\"Nama saya {nama} Saya kelas {kelas} Saya sedang belajar mata kuliah {Mata_Kuliah} Usia saya {usia} berat badan {berat_badan}\" )"
   ]
  },
  {
   "cell_type": "code",
   "execution_count": null,
   "metadata": {},
   "outputs": [
    {
     "name": "stdout",
     "output_type": "stream",
     "text": [
      "15\n"
     ]
    }
   ],
   "source": [
    "#aritmatika dan variabel dalam variabel\n",
    "a = 6\n",
    "b = 9\n",
    "hasil = a + b \n",
    "\n",
    "print(hasil)"
   ]
  },
  {
   "cell_type": "code",
   "execution_count": null,
   "metadata": {},
   "outputs": [],
   "source": []
  },
  {
   "cell_type": "code",
   "execution_count": null,
   "metadata": {},
   "outputs": [
    {
     "name": "stdout",
     "output_type": "stream",
     "text": [
      "6\n",
      "140\n",
      "5.0\n",
      "2\n",
      "1\n",
      "8\n"
     ]
    }
   ],
   "source": [
    "#pengurangan\n",
    "a = 10\n",
    "b = 4\n",
    "hasil = a - b\n",
    "print (hasil)\n",
    "\n",
    "#perkalian\n",
    "a = 70\n",
    "b = 2\n",
    "hasil = a * b\n",
    "print (hasil)\n",
    "\n",
    "#pembagian\n",
    "a = 10\n",
    "b = 2\n",
    "hasil = a / b\n",
    "print (hasil)\n",
    "\n",
    "a = 14\n",
    "b = 7\n",
    "hasil = a // b\n",
    "print (hasil)\n",
    "\n",
    "#sisa bagi\n",
    "a = 10\n",
    "b = 3\n",
    "hasil = a % b\n",
    "print (hasil)\n",
    "\n",
    "#pangkat\n",
    "a = 2\n",
    "b = 3\n",
    "hasil = a ** b\n",
    "print (hasil)\n"
   ]
  },
  {
   "cell_type": "code",
   "execution_count": null,
   "metadata": {},
   "outputs": [],
   "source": [
    "# shortcut = shift + enter dijalanin\n",
    "# alt + enter"
   ]
  },
  {
   "cell_type": "code",
   "execution_count": 2,
   "metadata": {},
   "outputs": [
    {
     "name": "stdout",
     "output_type": "stream",
     "text": [
      "Collecting openpyxl\n",
      "  Downloading openpyxl-3.1.5-py2.py3-none-any.whl.metadata (2.5 kB)\n",
      "Collecting et-xmlfile (from openpyxl)\n",
      "  Downloading et_xmlfile-2.0.0-py3-none-any.whl.metadata (2.7 kB)\n",
      "Downloading openpyxl-3.1.5-py2.py3-none-any.whl (250 kB)\n",
      "Downloading et_xmlfile-2.0.0-py3-none-any.whl (18 kB)\n",
      "Installing collected packages: et-xmlfile, openpyxl\n",
      "Successfully installed et-xmlfile-2.0.0 openpyxl-3.1.5\n"
     ]
    }
   ],
   "source": [
    "!pip install openpyxl"
   ]
  },
  {
   "cell_type": "code",
   "execution_count": 2,
   "metadata": {},
   "outputs": [
    {
     "ename": "NameError",
     "evalue": "name 'outer_function' is not defined",
     "output_type": "error",
     "traceback": [
      "\u001b[1;31m---------------------------------------------------------------------------\u001b[0m",
      "\u001b[1;31mNameError\u001b[0m                                 Traceback (most recent call last)",
      "\u001b[1;32md:\\Semester 3\\Pemdas\\coba_1.ipynb Cell 14\u001b[0m line \u001b[0;36m5\n\u001b[0;32m      <a href='vscode-notebook-cell:/d%3A/Semester%203/Pemdas/coba_1.ipynb#X16sZmlsZQ%3D%3D?line=2'>3</a>\u001b[0m         \u001b[39mreturn\u001b[39;00m x \u001b[39m+\u001b[39m y\n\u001b[0;32m      <a href='vscode-notebook-cell:/d%3A/Semester%203/Pemdas/coba_1.ipynb#X16sZmlsZQ%3D%3D?line=3'>4</a>\u001b[0m     \u001b[39mreturn\u001b[39;00m inner_function\n\u001b[1;32m----> <a href='vscode-notebook-cell:/d%3A/Semester%203/Pemdas/coba_1.ipynb#X16sZmlsZQ%3D%3D?line=4'>5</a>\u001b[0m result \u001b[39m=\u001b[39m outer_function\n\u001b[0;32m      <a href='vscode-notebook-cell:/d%3A/Semester%203/Pemdas/coba_1.ipynb#X16sZmlsZQ%3D%3D?line=5'>6</a>\u001b[0m \u001b[39mprint\u001b[39m(result(\u001b[39m3\u001b[39m))\n",
      "\u001b[1;31mNameError\u001b[0m: name 'outer_function' is not defined"
     ]
    }
   ],
   "source": [
    "def fungsi_utama(x):\n",
    "    def fungsi_dalam(y):\n",
    "        return x + y\n",
    "    return inner_function\n",
    "result = outer_function\n",
    "print(result(3))"
   ]
  }
 ],
 "metadata": {
  "kernelspec": {
   "display_name": "Python 3",
   "language": "python",
   "name": "python3"
  },
  "language_info": {
   "codemirror_mode": {
    "name": "ipython",
    "version": 3
   },
   "file_extension": ".py",
   "mimetype": "text/x-python",
   "name": "python",
   "nbconvert_exporter": "python",
   "pygments_lexer": "ipython3",
   "version": "3.12.6"
  }
 },
 "nbformat": 4,
 "nbformat_minor": 2
}
