{
 "cells": [
  {
   "cell_type": "code",
   "execution_count": 1,
   "metadata": {},
   "outputs": [],
   "source": [
    "import numpy as np\n",
    "\n",
    "sampah_wilayah1 = np.array([1.2, 1.5, 1.3, 1.7, 1.6, 1.4, 1.1, 1.8, 1.5, 1.9,\n",
    "                            1.3, 1.6, 1.7, 1.4, 1.2, 1.5, 1.3, 1.9, 1.8, 1.7,\n",
    "                            1.5, 1.3, 1.2, 1.4, 1.6, 1.5, 1.9, 1.8, 1.6, 1.7])#sampah per ton\n",
    "\n",
    "sampah_wilayah2 = np.array([1.1, 1.3, 1.4, 1.6, 1.5, 1.7, 1.2, 1.6, 1.7,1.8,\n",
    "                            1.4, 1.5, 1.6, 1.3, 1.1, 1.4, 1.5, 1.8, 1.7, 1.6,\n",
    "                            1.4, 1.2, 1.3, 1.5, 1.7, 1.6, 1.8, 1.5, 1.9, 1.8])#sampah per ton\n"
   ]
  },
  {
   "cell_type": "code",
   "execution_count": 7,
   "metadata": {},
   "outputs": [
    {
     "name": "stdout",
     "output_type": "stream",
     "text": [
      "Total sampah wilayah 1 selama sebulan: 45.9\n",
      "Total sampah wilayah 2 selama sebulan: 45.49999999999999\n"
     ]
    }
   ],
   "source": [
    "# hitung total sampah yang dikumpulkan di masing-masing wilayah selama sebulan\n",
    "total_sampah1 = np.sum(sampah_wilayah1)\n",
    "total_sampah2 = np.sum(sampah_wilayah2)\n",
    "\n",
    "print(f\"Total sampah wilayah 1 selama sebulan: {total_sampah1}\")\n",
    "print(f\"Total sampah wilayah 2 selama sebulan: {total_sampah2}\")"
   ]
  },
  {
   "cell_type": "markdown",
   "metadata": {},
   "source": []
  },
  {
   "cell_type": "code",
   "execution_count": null,
   "metadata": {},
   "outputs": [],
   "source": [
    "# tentukan hari di mana wilayah pertama mengumpulkan lebih banyak sampah daripada wilayah kedua dan sebaliknya\n",
    "sampah_wilayah1 = np.array([1.2, 1.5, 1.3, 1.7, 1.6, 1.4, 1.1, 1.8, 1.5, 1.9,\n",
    "                            1.3, 1.6, 1.7, 1.4, 1.2, 1.5, 1.3, 1.9, 1.8, 1.7,\n",
    "                            1.5, 1.3, 1.2, 1.4, 1.6, 1.5, 1.9, 1.8, 1.6, 1.7])\n",
    "\n",
    "sampah_wilayah2 = np.array([1.1, 1.3, 1.4, 1.6, 1.5, 1.7, 1.2, 1.6, 1.7,1.8,\n",
    "                            1.4, 1.5, 1.6, 1.3, 1.1, 1.4, 1.5, 1.8, 1.7, 1.6,\n",
    "                            1.4, 1.2, 1.3, 1.5, 1.7, 1.6, 1.8, 1.5, 1.9, 1.8])#sampah per ton\n",
    "\n",
    "perbandingan_wil1 = sampah_wilayah1 > sampah_wilayah2\n",
    "perbandingan_wil2 = sampah_wilayah1 < sampah_wilayah2\n",
    "\n",
    "hari_lebih_banyak_sampah1 = np.where(perbandingan_wil1)[0] + 1\n",
    "hari_lebih_banyak_sampah2 = np.where(perbandingan_wil2)[0] + 1\n",
    "\n",
    "print(f\" wilayah 1 lebih banyak sampah hari: {hari_lebih_banyak_sampah1}\")\n",
    "print(f\"wilayah 2 lebih banyak sampah hari: {hari_lebih_banyak_sampah2}\")\n"
   ]
  },
  {
   "cell_type": "code",
   "execution_count": 2,
   "metadata": {},
   "outputs": [
    {
     "name": "stdout",
     "output_type": "stream",
     "text": [
      "Hari ke-1: Total sampah = 2.3 ton\n",
      "Hari ke-2: Total sampah = 2.8 ton\n",
      "Hari ke-3: Total sampah = 2.7 ton\n",
      "Hari ke-4: Total sampah = 3.3 ton\n",
      "Hari ke-5: Total sampah = 3.1 ton\n",
      "Hari ke-6: Total sampah = 3.0999999999999996 ton\n",
      "Hari ke-7: Total sampah = 2.3 ton\n",
      "Hari ke-8: Total sampah = 3.4000000000000004 ton\n",
      "Hari ke-9: Total sampah = 3.2 ton\n",
      "Hari ke-10: Total sampah = 3.7 ton\n",
      "Hari ke-11: Total sampah = 2.7 ton\n",
      "Hari ke-12: Total sampah = 3.1 ton\n",
      "Hari ke-13: Total sampah = 3.3 ton\n",
      "Hari ke-14: Total sampah = 2.7 ton\n",
      "Hari ke-15: Total sampah = 2.3 ton\n",
      "Hari ke-16: Total sampah = 2.9 ton\n",
      "Hari ke-17: Total sampah = 2.8 ton\n",
      "Hari ke-18: Total sampah = 3.7 ton\n",
      "Hari ke-19: Total sampah = 3.5 ton\n",
      "Hari ke-20: Total sampah = 3.3 ton\n",
      "Hari ke-21: Total sampah = 2.9 ton\n",
      "Hari ke-22: Total sampah = 2.5 ton\n",
      "Hari ke-23: Total sampah = 2.5 ton\n",
      "Hari ke-24: Total sampah = 2.9 ton\n",
      "Hari ke-25: Total sampah = 3.3 ton\n",
      "Hari ke-26: Total sampah = 3.1 ton\n",
      "Hari ke-27: Total sampah = 3.7 ton\n",
      "Hari ke-28: Total sampah = 3.3 ton\n",
      "Hari ke-29: Total sampah = 3.5 ton\n",
      "Hari ke-30: Total sampah = 3.5 ton\n"
     ]
    }
   ],
   "source": [
    "# hitung total sampah yang dikumpulkan oleh kedua wilayah setiap harinya\n",
    "sampah_wilayah1 = np.array([1.2, 1.5, 1.3, 1.7, 1.6, 1.4, 1.1, 1.8, 1.5, 1.9,\n",
    "                            1.3, 1.6, 1.7, 1.4, 1.2, 1.5, 1.3, 1.9, 1.8, 1.7,\n",
    "                            1.5, 1.3, 1.2, 1.4, 1.6, 1.5, 1.9, 1.8, 1.6, 1.7])\n",
    "\n",
    "sampah_wilayah2 = np.array([1.1, 1.3, 1.4, 1.6, 1.5, 1.7, 1.2, 1.6, 1.7,1.8,\n",
    "                            1.4, 1.5, 1.6, 1.3, 1.1, 1.4, 1.5, 1.8, 1.7, 1.6,\n",
    "                            1.4, 1.2, 1.3, 1.5, 1.7, 1.6, 1.8, 1.5, 1.9, 1.8])\n",
    "total_sampah_harian = sampah_wilayah1 + sampah_wilayah2\n",
    "\n",
    "for i in range (len(total_sampah_harian)):\n",
    "    print(f\"Hari ke-{i+1}: Total sampah = {total_sampah_harian[i]} ton\")"
   ]
  },
  {
   "cell_type": "code",
   "execution_count": null,
   "metadata": {},
   "outputs": [],
   "source": []
  }
 ],
 "metadata": {
  "kernelspec": {
   "display_name": "Python 3",
   "language": "python",
   "name": "python3"
  },
  "language_info": {
   "codemirror_mode": {
    "name": "ipython",
    "version": 3
   },
   "file_extension": ".py",
   "mimetype": "text/x-python",
   "name": "python",
   "nbconvert_exporter": "python",
   "pygments_lexer": "ipython3",
   "version": "3.12.6"
  }
 },
 "nbformat": 4,
 "nbformat_minor": 2
}
