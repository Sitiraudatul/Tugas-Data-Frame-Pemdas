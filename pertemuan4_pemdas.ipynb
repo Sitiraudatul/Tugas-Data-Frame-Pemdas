{
 "cells": [
  {
   "cell_type": "code",
   "execution_count": 1,
   "metadata": {},
   "outputs": [
    {
     "name": "stdout",
     "output_type": "stream",
     "text": [
      "Java Script\n"
     ]
    }
   ],
   "source": [
    "# operasi ternary (bisa dimasukan ke variabel tapi hanya percabangan sederhana)\n",
    "\n",
    "prodi = 'Informatika'\n",
    "status = 20 < 23 if prodi == 'informatika' else 25 > 24\n",
    "# print(status)\n",
    "\n",
    "harga = 'Java Script' if status == True else 'Python'\n",
    "print(harga)"
   ]
  },
  {
   "cell_type": "code",
   "execution_count": 2,
   "metadata": {},
   "outputs": [
    {
     "name": "stdout",
     "output_type": "stream",
     "text": [
      "suhu tubuh di atas normal\n",
      "suhu tubuh sangat tinggi, butuh perhatian medis segera. \n"
     ]
    }
   ],
   "source": [
    "# mengecek suhu tubuh dan detak jantung\n",
    "# jika salah satu kondisi 'if' tidak terpenuhi maka langsung ke 'else'\n",
    "\n",
    "suhu_tubuh = 39.5\n",
    "\n",
    "# input detak jantung per menit\n",
    "detak_jantung = 110\n",
    "\n",
    "# mengecek apakah suhu tubuh di atas normal\n",
    "if suhu_tubuh > 37.5:\n",
    "    print('suhu tubuh di atas normal')\n",
    "\n",
    "    # mengecek apakah suhu tubuh sangat tinggi\n",
    "    if suhu_tubuh > 37.5:\n",
    "        print('suhu tubuh sangat tinggi, butuh perhatian medis segera. ')\n",
    "\n",
    "    #mengecek detak jantung jika suhu tubuh tidak terlalu tinggi\n",
    "    else:\n",
    "        #mengecek apakah detak jantung terlalu tinggi\n",
    "        if detak_jantung > 100:\n",
    "            print('detak jantung terlalu tinggi, butuh pemeriksaan lebih lanjut. ')\n",
    "        else:\n",
    "            print('detak jantung normal, perbanyak istirahat dan minum cairan. ')  \n",
    "else: \n",
    "    print('sehat')                "
   ]
  },
  {
   "cell_type": "code",
   "execution_count": null,
   "metadata": {},
   "outputs": [],
   "source": [
    "# inputkan nama, suhu tubuh, detak jantung\n",
    "# jika suhu diatas 37.5 lanjutkan proses selanjutnya\n",
    "# 1. jika suhu tubuh diatas 39 dan dibawah 50 maka tambahkan output (harus segera dirawat)\n",
    "\n",
    "# 2. jika tidak, tambahkan (cukup istirahat saja)\n",
    "# pada kesempatan ini dokter ingin memastikan bahwa pasien baik-baik saja\n",
    "\n",
    "# 3. maka, setelah itu cek detak jantungnya\n",
    "# 4. jika suhu dibawah 37.5 maka cek juga detak jantungnya\n",
    "# 5. tampilkan nama, suhu tubuh, detak jantungnya serta kondisi akhir yang harus diambil pasien"
   ]
  },
  {
   "cell_type": "code",
   "execution_count": 8,
   "metadata": {},
   "outputs": [
    {
     "name": "stdout",
     "output_type": "stream",
     "text": [
      "dila memiliki suhu tubuh  30.0  sehingga  suhu tubuh normal  ,detak jantungnya  100  sehingga  detak jantung normal, perbanyak istirahat dan minum cairan\n"
     ]
    }
   ],
   "source": [
    "# menginputkan nama, suhu tubuh, detak jantung\n",
    "nama = input('sebutkan nama anda:  ')\n",
    "suhu_tubuh = float(input('berapa suhu tubuh anda? '))\n",
    "detak_jantung = int(input('berapa detak jantung anda? '))\n",
    "\n",
    "# jika suhu diatas 37.5 lanjutkan proses selanjutnya\n",
    "\n",
    "if suhu_tubuh > 37.5:\n",
    "    if suhu_tubuh > 39 and suhu_tubuh < 50:\n",
    "        kondisi_st = 'harus segera dirawat'\n",
    "    else:\n",
    "        if detak_jantung > 100:\n",
    "            kondisi_dj = 'detak jantung terlalu tinggi'\n",
    "        else: \n",
    "            kondisi_dj = 'detak jantung normal, perbanyak istirahat saja'\n",
    "else:\n",
    "    kondisi_st = 'suhu tubuh normal'\n",
    "    if detak_jantung > 100:\n",
    "        kondisi_dj = 'detak jantung terlalu tinggi, butuh pemeriksaan lanjut'\n",
    "    else:\n",
    "        kondisi_dj = 'detak jantung normal, perbanyak istirahat dan minum cairan' \n",
    "print(nama,'memiliki suhu tubuh ',suhu_tubuh,' sehingga',kondisi_st,' , detak jantungnya ',detak_jantung,' sehingga ',kondisi_dj)                   \n",
    "    \n",
    "    "
   ]
  },
  {
   "cell_type": "code",
   "execution_count": 10,
   "metadata": {},
   "outputs": [
    {
     "name": "stdout",
     "output_type": "stream",
     "text": [
      "naura memiliki suhu tubuh  37.0  sehingga suhu tubuh normal  , detak jantungnya  99  sehingga  detak jantung normal, perbanyak istirahat dan minum cairan\n"
     ]
    }
   ],
   "source": [
    "# case 1\n",
    "# case 2\n",
    "# case 3\n",
    "# case 4\n",
    "\n",
    "menu = int(input('pilih 1/2/3/4'))\n",
    "\n",
    "match menu:\n",
    "    case 1:\n",
    "        nama = input('sebutkan nama anda:  ')\n",
    "        suhu_tubuh = float(input('berapa suhu tubuh anda? '))\n",
    "        detak_jantung = int(input('berapa detak jantung anda? '))\n",
    "\n",
    "        # jika suhu diatas 37.5 lanjutkan proses selanjutnya\n",
    "\n",
    "        if suhu_tubuh > 37.5:\n",
    "            if suhu_tubuh > 39 and suhu_tubuh < 50:\n",
    "                kondisi_st = 'harus segera dirawat'\n",
    "            else:\n",
    "                if detak_jantung > 100:\n",
    "                    kondisi_dj = 'detak jantung terlalu tinggi'\n",
    "                \n",
    "                else: \n",
    "                    kondisi_dj = 'detak jantung normal, perbanyak istirahat saja'\n",
    "        else:\n",
    "            kondisi_st = 'suhu tubuh normal'\n",
    "            if detak_jantung > 100:\n",
    "                kondisi_dj = 'detak jantung terlalu tinggi, butuh pemeriksaan lanjut'\n",
    "            else:\n",
    "                kondisi_dj = 'detak jantung normal, perbanyak istirahat dan minum cairan' \n",
    "        print(nama,'memiliki suhu tubuh ',suhu_tubuh,' sehingga',kondisi_st,' , detak jantungnya ',detak_jantung,' sehingga ',kondisi_dj)\n",
    "\n",
    "    case 2:\n",
    "        print('masih kosong')\n",
    "    case 3:\n",
    "        print('masih kosong')\n",
    "    case _:\n",
    "        hari = input('masukan hari')\n",
    "        match hari:\n",
    "            case 'senin':\n",
    "                print('')        "
   ]
  },
  {
   "cell_type": "code",
   "execution_count": 1,
   "metadata": {},
   "outputs": [
    {
     "name": "stdout",
     "output_type": "stream",
     "text": [
      "angka ke 1\n",
      "angka ke 3\n"
     ]
    }
   ],
   "source": [
    "#FOR\n",
    "\n",
    "for i in range(1,5,2):\n",
    "    print('angka ke',i)"
   ]
  },
  {
   "cell_type": "code",
   "execution_count": 2,
   "metadata": {},
   "outputs": [
    {
     "name": "stdout",
     "output_type": "stream",
     "text": [
      "angka ke 0\n",
      "angka ke 1\n",
      "angka ke 2\n",
      "angka ke 3\n",
      "angka ke 4\n"
     ]
    }
   ],
   "source": [
    "# While\n",
    "\n",
    "i = 0\n",
    "\n",
    "while i<5:\n",
    "    print('angka ke',i)\n",
    "    i+=1"
   ]
  }
 ],
 "metadata": {
  "kernelspec": {
   "display_name": "Python 3",
   "language": "python",
   "name": "python3"
  },
  "language_info": {
   "codemirror_mode": {
    "name": "ipython",
    "version": 3
   },
   "file_extension": ".py",
   "mimetype": "text/x-python",
   "name": "python",
   "nbconvert_exporter": "python",
   "pygments_lexer": "ipython3",
   "version": "3.12.6"
  }
 },
 "nbformat": 4,
 "nbformat_minor": 2
}
