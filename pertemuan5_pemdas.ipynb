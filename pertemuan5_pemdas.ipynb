{
 "cells": [
  {
   "cell_type": "code",
   "execution_count": 1,
   "metadata": {},
   "outputs": [
    {
     "name": "stdout",
     "output_type": "stream",
     "text": [
      "perulangan ke 1\n",
      "perulangan ke 2\n",
      "perulangan ke 3\n",
      "perulangan ke 4\n",
      "perulangan ke 5\n",
      "perulangan ke 6\n",
      "perulangan ke 7\n",
      "akhirnya no 7 ketemu\n"
     ]
    }
   ],
   "source": [
    "# perulangan while\n",
    "\n",
    "found = False\n",
    "i = 0\n",
    "while not found:\n",
    "    if i == 7:\n",
    "        found = True\n",
    "        print('akhirnya no 7 ketemu')\n",
    "    else:\n",
    "        i += 1\n",
    "        print(f'perulangan ke {i}')    "
   ]
  },
  {
   "cell_type": "code",
   "execution_count": 15,
   "metadata": {},
   "outputs": [
    {
     "name": "stdout",
     "output_type": "stream",
     "text": [
      "['banana', 'blueberry', 'mangga', 'durian']\n"
     ]
    }
   ],
   "source": [
    "# membuat list\n",
    "buahbuahan = ['apel','banana','cherry']\n",
    "\n",
    "buahbuahan.insert(3,'mangga')\n",
    "# menambahkan elemen ke dalam list\n",
    "buahbuahan.append('durian')\n",
    "\n",
    "# # mengakses elemen\n",
    "pilihan = buahbuahan[0],buahbuahan[2]\n",
    "\n",
    "# # menghapus via index\n",
    "buahbuahan.pop(0)\n",
    "\n",
    "# # mengubah elemen\n",
    "buahbuahan[1] = 'blueberry'\n",
    "\n",
    "# # menghapus elemen via kata kunci\n",
    "# buahbuahan.remove(1)\n",
    "\n",
    "print (buahbuahan)"
   ]
  },
  {
   "cell_type": "code",
   "execution_count": 6,
   "metadata": {},
   "outputs": [
    {
     "name": "stdout",
     "output_type": "stream",
     "text": [
      "durian\n",
      "cherry\n"
     ]
    }
   ],
   "source": [
    "Buahbuahan = ['apple','banana','cherry','mangga','durian']\n",
    "\n",
    "for i in range(4,1,-2):\n",
    "    print(Buahbuahan[i])"
   ]
  },
  {
   "cell_type": "code",
   "execution_count": 10,
   "metadata": {},
   "outputs": [
    {
     "name": "stdout",
     "output_type": "stream",
     "text": [
      "80\n",
      "90\n",
      "75\n",
      "100\n",
      "10\n",
      "90\n",
      "80\n",
      "75\n"
     ]
    }
   ],
   "source": [
    "# set\n",
    "\n",
    "nilai = {100,90,80,75}\n",
    "\n",
    "for i in nilai:\n",
    "    print(i)\n",
    "\n",
    "#list\n",
    "nilai = [100,90,80,75]\n",
    "\n",
    "for i in nilai:\n",
    "    print(i)   "
   ]
  }
 ],
 "metadata": {
  "kernelspec": {
   "display_name": "Python 3",
   "language": "python",
   "name": "python3"
  },
  "language_info": {
   "codemirror_mode": {
    "name": "ipython",
    "version": 3
   },
   "file_extension": ".py",
   "mimetype": "text/x-python",
   "name": "python",
   "nbconvert_exporter": "python",
   "pygments_lexer": "ipython3",
   "version": "3.12.6"
  }
 },
 "nbformat": 4,
 "nbformat_minor": 2
}
