{
 "cells": [
  {
   "cell_type": "code",
   "execution_count": 11,
   "metadata": {},
   "outputs": [
    {
     "data": {
      "text/plain": [
       "{'Nama': 'Dila', 'Usia': 20, 'Status': 'Mahasiswa'}"
      ]
     },
     "execution_count": 11,
     "metadata": {},
     "output_type": "execute_result"
    }
   ],
   "source": [
    "# membuat dictionary kosong\n",
    "kamusku = {}\n",
    "\n",
    "# dictionary data awal\n",
    "kamusku = {'Nama' : 'Dila','Usia' : 19,'kota' :  'Bandung Barat'} \n",
    "# menambahkan item yang ada di dictionary\n",
    "kamusku['Status'] = 'Mahasiswa'\n",
    "# memodifikasi item yang ada\n",
    "kamusku['Usia'] = 20\n",
    "# menghapus item\n",
    "del kamusku['kota']\n",
    "\n",
    "\n",
    "# nama_saya = kamusku['Nama']\n",
    "# usia_saya = kamusku['Usia']\n",
    "# tempat_tinggal = kamusku ['kota']\n",
    " \n",
    "kamusku\n",
    "# print(f'nama saya adalah {nama_saya} usia saya {usia_saya} saya tinggal di {tempat_tinggal}')"
   ]
  },
  {
   "cell_type": "code",
   "execution_count": null,
   "metadata": {},
   "outputs": [],
   "source": [
    "# menggunakan pop untuk menghapus dan mendaptkan nilai dimasukkan ke variabel\n",
    "kota = kamusku.pop('kota')\n",
    "kota"
   ]
  },
  {
   "cell_type": "code",
   "execution_count": 12,
   "metadata": {},
   "outputs": [
    {
     "data": {
      "text/plain": [
       "{'a': 1, 'b': 3, 'c': 4}"
      ]
     },
     "execution_count": 12,
     "metadata": {},
     "output_type": "execute_result"
    }
   ],
   "source": [
    "# upadte dictionary\n",
    "dict1 = {'a': 1, 'b': 2}\n",
    "dict2 = {'b': 3, 'c': 4}\n",
    "dict1.update(dict2)\n",
    "dict1"
   ]
  },
  {
   "cell_type": "code",
   "execution_count": 17,
   "metadata": {},
   "outputs": [
    {
     "name": "stdout",
     "output_type": "stream",
     "text": [
      "Nama\n",
      "Usia\n",
      "kota\n"
     ]
    }
   ],
   "source": [
    "kamusku = {'Nama' : 'Dila','Usia' : 19,'kota' :  'Bandung Barat'} \n",
    "\n",
    "for i in kamusku:\n",
    "    print(i)"
   ]
  },
  {
   "cell_type": "code",
   "execution_count": 18,
   "metadata": {},
   "outputs": [
    {
     "name": "stdout",
     "output_type": "stream",
     "text": [
      "Dila\n",
      "19\n",
      "Bandung Barat\n",
      "Nama Dila\n",
      "Usia 19\n",
      "kota Bandung Barat\n"
     ]
    }
   ],
   "source": [
    "# perulangan untuk  mengeluarkan output valuenya\n",
    "kamusku1 = {'Nama' : 'Dila','Usia' : 19,'kota' :  'Bandung Barat'} \n",
    "\n",
    "for i in kamusku1.values():\n",
    "    print(i)\n",
    "\n",
    "   \n",
    "          "
   ]
  },
  {
   "cell_type": "code",
   "execution_count": null,
   "metadata": {},
   "outputs": [],
   "source": [
    "# perulangan untuk  mengeluarkan output valuenya\n",
    "kamusku1 = {'Nama' : 'Dila','Usia' : 19,'kota' :  'Bandung Barat'} \n",
    "\n",
    "for x,y in kamusku1.items():\n",
    "    print(x,y) "
   ]
  },
  {
   "cell_type": "code",
   "execution_count": 21,
   "metadata": {},
   "outputs": [
    {
     "name": "stdout",
     "output_type": "stream",
     "text": [
      "Nama orang 1 adalah Rizky\n"
     ]
    }
   ],
   "source": [
    "# dictionary di dalam dictionary\n",
    "dict_banyak = {\n",
    "    'orang1' : {'nama' : 'Rizky', 'umur' : 20},\n",
    "    'orang2' : {'nama' : 'Rahmad', 'umur' : 19}\n",
    "}\n",
    "nama = (dict_banyak['orang1']['nama'])\n",
    "print(f\"Nama orang 1 adalah {nama}\")"
   ]
  },
  {
   "cell_type": "code",
   "execution_count": 22,
   "metadata": {},
   "outputs": [
    {
     "name": "stdout",
     "output_type": "stream",
     "text": [
      "id orang: orang1\n",
      "nama: Rizky\n",
      "umur: 20\n",
      "id orang: orang2\n",
      "nama: Rahmad\n",
      "umur: 19\n"
     ]
    }
   ],
   "source": [
    "# perulangan dictionary\n",
    "for x, y in dict_banyak.items():\n",
    "    print(f\"id orang: {x}\")\n",
    "    print(f\"nama: {y['nama']}\")\n",
    "    print(f\"umur: {y['umur']}\")"
   ]
  },
  {
   "cell_type": "code",
   "execution_count": 1,
   "metadata": {},
   "outputs": [],
   "source": [
    "# soal\n",
    "data_limbah = {\n",
    "    'lokasi1' : {\n",
    "        'nama_lokasi' : 'area kota 1',\n",
    "        'jumlah_limbah' : {\n",
    "            'plastik' : 500,\n",
    "            'organik' : 300,\n",
    "            'logam' : 200\n",
    "        }\n",
    "    },\n",
    "\n",
    "    'lokasi2' : {\n",
    "        'nama_lokasi' : 'area kota 2',\n",
    "        'jumlah_limbah' : {\n",
    "            'plastik' : 700,\n",
    "            'organik' : 400,\n",
    "            'logam' : 250\n",
    "        }\n",
    "    },\n",
    "\n",
    "    'lokasi3' : {\n",
    "        'nama_lokasi' : 'area kota 3',\n",
    "        'jumlah_limbah' : {\n",
    "            'plastik' : 600,\n",
    "            'organik' : 350,\n",
    "            'logam' : 300\n",
    "        }\n",
    "    }\n",
    "}\n"
   ]
  },
  {
   "cell_type": "code",
   "execution_count": 2,
   "metadata": {},
   "outputs": [
    {
     "name": "stdout",
     "output_type": "stream",
     "text": [
      "ID Lokasi: lokasi1\n",
      "Nama Lokasi: area kota 1\n",
      "ID Lokasi: lokasi2\n",
      "Nama Lokasi: area kota 2\n",
      "ID Lokasi: lokasi3\n",
      "Nama Lokasi: area kota 3\n"
     ]
    }
   ],
   "source": [
    "for lokasi, data in data_limbah.items():\n",
    "    print(f\"ID Lokasi: {lokasi}\")\n",
    "    print(f\"Nama Lokasi: {data['nama_lokasi']}\")\n",
    "\n",
    "                                             "
   ]
  },
  {
   "cell_type": "code",
   "execution_count": 3,
   "metadata": {},
   "outputs": [
    {
     "name": "stdout",
     "output_type": "stream",
     "text": [
      "Jumlah limbah plastik di lokasi 2: 700\n"
     ]
    }
   ],
   "source": [
    "jumlah_plastik_lokasi2 = data_limbah['lokasi2']['jumlah_limbah']['plastik']\n",
    "print(f\"Jumlah limbah plastik di lokasi 2: {jumlah_plastik_lokasi2}\")"
   ]
  },
  {
   "cell_type": "code",
   "execution_count": 4,
   "metadata": {},
   "outputs": [
    {
     "name": "stdout",
     "output_type": "stream",
     "text": [
      "area kota 3\n"
     ]
    }
   ],
   "source": [
    "print(data_limbah['lokasi3']['nama_lokasi'])\n"
   ]
  },
  {
   "cell_type": "code",
   "execution_count": 5,
   "metadata": {},
   "outputs": [
    {
     "name": "stdout",
     "output_type": "stream",
     "text": [
      "Jumlah limbah organik dan logam di area kota 1: 500\n",
      "Jumlah limbah organik dan logam di area kota 2: 650\n",
      "Jumlah limbah organik dan logam di area kota 3: 650\n"
     ]
    }
   ],
   "source": [
    "for lokasi, data in data_limbah.items():\n",
    "    total_organik_logam = data['jumlah_limbah']['organik'] + data['jumlah_limbah']['logam']\n",
    "    print(f\"Jumlah limbah organik dan logam di {data['nama_lokasi']}: {total_organik_logam}\")\n",
    " \n"
   ]
  }
 ],
 "metadata": {
  "kernelspec": {
   "display_name": "Python 3",
   "language": "python",
   "name": "python3"
  },
  "language_info": {
   "codemirror_mode": {
    "name": "ipython",
    "version": 3
   },
   "file_extension": ".py",
   "mimetype": "text/x-python",
   "name": "python",
   "nbconvert_exporter": "python",
   "pygments_lexer": "ipython3",
   "version": "3.12.6"
  }
 },
 "nbformat": 4,
 "nbformat_minor": 2
}
