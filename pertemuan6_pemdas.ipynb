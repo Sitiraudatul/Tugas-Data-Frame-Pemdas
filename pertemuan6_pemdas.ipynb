{
 "cells": [
  {
   "cell_type": "code",
   "execution_count": 1,
   "metadata": {},
   "outputs": [
    {
     "name": "stdout",
     "output_type": "stream",
     "text": [
      "ini adalahh fungsi luar dengan parameter: Diash Firdaus\n"
     ]
    }
   ],
   "source": [
    "def luar(argumen1):\n",
    "    print(f'ini adalahh fungsi luar dengan parameter: {argumen1}')\n",
    "\n",
    "    def dalam(inner_param):\n",
    "        print(f'ini adalah fungsi dalam dengan parameter: {inner_param}')\n",
    "\n",
    "    #memanggil fungsi dalam\n",
    "        dalam('dalam')\n",
    "\n",
    "luar('Diash Firdaus')"
   ]
  },
  {
   "cell_type": "code",
   "execution_count": 2,
   "metadata": {},
   "outputs": [
    {
     "name": "stdout",
     "output_type": "stream",
     "text": [
      "perulangan ke: 0\n",
      "perulangan ke: 1\n",
      "perulangan ke: 2\n",
      "perulangan ke: 3\n",
      "perulangan ke: 4\n",
      "5\n"
     ]
    },
    {
     "data": {
      "text/plain": [
       "625"
      ]
     },
     "execution_count": 2,
     "metadata": {},
     "output_type": "execute_result"
    }
   ],
   "source": [
    "def percabangan(a,b):\n",
    "    if a > b:\n",
    "        hitung = a ** b\n",
    "    else:\n",
    "        print('tidak bisa dihitung')\n",
    "    def perulangan(z):\n",
    "        i = 0\n",
    "        while i < z:\n",
    "            print(f'perulangan ke: {i}')\n",
    "            i += 1\n",
    "        return z\n",
    "    a = perulangan(5)\n",
    "    print(a)\n",
    "    return hitung\n",
    "percabangan(5,4)            "
   ]
  },
  {
   "cell_type": "code",
   "execution_count": 3,
   "metadata": {},
   "outputs": [
    {
     "data": {
      "text/plain": [
       "['a', 'b', 'c']"
      ]
     },
     "execution_count": 3,
     "metadata": {},
     "output_type": "execute_result"
    }
   ],
   "source": [
    "nama_pasien=[]\n",
    "jumlah_pasien = int(input('masukan jumlah pasien :'))\n",
    "for  i in range(jumlah_pasien):\n",
    "    pasien = input(f'masukan pasien ke {i+1}:')\n",
    "    nama_pasien.append(pasien)\n",
    "nama_pasien    "
   ]
  },
  {
   "cell_type": "code",
   "execution_count": 4,
   "metadata": {},
   "outputs": [
    {
     "name": "stdout",
     "output_type": "stream",
     "text": [
      "\n",
      "Nama-nama pasien yang telah dimasukan:\n",
      "hikam\n",
      "kahim\n",
      "kaha\n"
     ]
    }
   ],
   "source": [
    "# memasukan jumlah pasien\n",
    "jumlah_pasien = int(input('masukkan jumlah pasien: '))\n",
    "\n",
    "# membuat list untuk menyimpan nama pasien\n",
    "nama_pasien = []\n",
    "\n",
    "# menggunakan perulangan untuk memasukan nama setiap pasien\n",
    "for i in range(jumlah_pasien):\n",
    "    nama = input(f'masukkan nama pasien ke {i+1}: ')\n",
    "    nama_pasien.append(nama)\n",
    "#memanggil nama-nama pasien yang telah dimasukan\n",
    "print('\\nNama-nama pasien yang telah dimasukan:')\n",
    "for z in nama_pasien:\n",
    "    print(z)"
   ]
  }
 ],
 "metadata": {
  "kernelspec": {
   "display_name": "Python 3",
   "language": "python",
   "name": "python3"
  },
  "language_info": {
   "codemirror_mode": {
    "name": "ipython",
    "version": 3
   },
   "file_extension": ".py",
   "mimetype": "text/x-python",
   "name": "python",
   "nbconvert_exporter": "python",
   "pygments_lexer": "ipython3",
   "version": "3.12.6"
  }
 },
 "nbformat": 4,
 "nbformat_minor": 2
}
