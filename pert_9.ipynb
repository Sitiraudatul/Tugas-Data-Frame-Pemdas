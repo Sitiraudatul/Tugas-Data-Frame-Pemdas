{
 "cells": [
  {
   "cell_type": "code",
   "execution_count": 4,
   "metadata": {},
   "outputs": [
    {
     "data": {
      "text/html": [
       "<div>\n",
       "<style scoped>\n",
       "    .dataframe tbody tr th:only-of-type {\n",
       "        vertical-align: middle;\n",
       "    }\n",
       "\n",
       "    .dataframe tbody tr th {\n",
       "        vertical-align: top;\n",
       "    }\n",
       "\n",
       "    .dataframe thead th {\n",
       "        text-align: right;\n",
       "    }\n",
       "</style>\n",
       "<table border=\"1\" class=\"dataframe\">\n",
       "  <thead>\n",
       "    <tr style=\"text-align: right;\">\n",
       "      <th></th>\n",
       "      <th>Material</th>\n",
       "      <th>Jumlah</th>\n",
       "      <th>Status</th>\n",
       "    </tr>\n",
       "  </thead>\n",
       "  <tbody>\n",
       "    <tr>\n",
       "      <th>0</th>\n",
       "      <td>Plastik</td>\n",
       "      <td>5</td>\n",
       "      <td>True</td>\n",
       "    </tr>\n",
       "    <tr>\n",
       "      <th>1</th>\n",
       "      <td>Kertas</td>\n",
       "      <td>2</td>\n",
       "      <td>True</td>\n",
       "    </tr>\n",
       "    <tr>\n",
       "      <th>2</th>\n",
       "      <td>Logam</td>\n",
       "      <td>3</td>\n",
       "      <td>True</td>\n",
       "    </tr>\n",
       "    <tr>\n",
       "      <th>3</th>\n",
       "      <td>Kaca</td>\n",
       "      <td>4</td>\n",
       "      <td>False</td>\n",
       "    </tr>\n",
       "  </tbody>\n",
       "</table>\n",
       "</div>"
      ],
      "text/plain": [
       "  Material  Jumlah  Status\n",
       "0  Plastik       5    True\n",
       "1   Kertas       2    True\n",
       "2    Logam       3    True\n",
       "3     Kaca       4   False"
      ]
     },
     "execution_count": 4,
     "metadata": {},
     "output_type": "execute_result"
    }
   ],
   "source": [
    "# data frame\n",
    "\n",
    "import pandas as pd\n",
    "\n",
    "data_list = [\n",
    "    ['Plastik', 5, True],\n",
    "    ['Kertas', 2, True],\n",
    "    ['Logam', 3, True],\n",
    "    ['Kaca', 4, False]\n",
    "]\n",
    "\n",
    "df_list = pd.DataFrame(data_list, columns=['Material', 'Jumlah', 'Status'])\n",
    "df_list"
   ]
  },
  {
   "cell_type": "code",
   "execution_count": 8,
   "metadata": {},
   "outputs": [
    {
     "data": {
      "text/html": [
       "<div>\n",
       "<style scoped>\n",
       "    .dataframe tbody tr th:only-of-type {\n",
       "        vertical-align: middle;\n",
       "    }\n",
       "\n",
       "    .dataframe tbody tr th {\n",
       "        vertical-align: top;\n",
       "    }\n",
       "\n",
       "    .dataframe thead th {\n",
       "        text-align: right;\n",
       "    }\n",
       "</style>\n",
       "<table border=\"1\" class=\"dataframe\">\n",
       "  <thead>\n",
       "    <tr style=\"text-align: right;\">\n",
       "      <th></th>\n",
       "      <th>NIM</th>\n",
       "      <th>Nama</th>\n",
       "      <th>Jurusan</th>\n",
       "    </tr>\n",
       "  </thead>\n",
       "  <tbody>\n",
       "    <tr>\n",
       "      <th>0</th>\n",
       "      <td>152023179</td>\n",
       "      <td>Fadilah</td>\n",
       "      <td>If</td>\n",
       "    </tr>\n",
       "    <tr>\n",
       "      <th>1</th>\n",
       "      <td>152023187</td>\n",
       "      <td>Hikam</td>\n",
       "      <td>If</td>\n",
       "    </tr>\n",
       "    <tr>\n",
       "      <th>2</th>\n",
       "      <td>152023199</td>\n",
       "      <td>Naura</td>\n",
       "      <td>If</td>\n",
       "    </tr>\n",
       "  </tbody>\n",
       "</table>\n",
       "</div>"
      ],
      "text/plain": [
       "         NIM     Nama Jurusan\n",
       "0  152023179  Fadilah      If\n",
       "1  152023187    Hikam      If\n",
       "2  152023199    Naura      If"
      ]
     },
     "execution_count": 8,
     "metadata": {},
     "output_type": "execute_result"
    }
   ],
   "source": [
    "# import numpy as np\n",
    "\n",
    "data_mhs = np.array([[152023179, 'Fadilah', 'If'], \n",
    "                     [152023187, 'Hikam', 'If'], \n",
    "                     [152023199, 'Naura', 'If']])\n",
    "\n",
    "df_list = pd.DataFrame(data_mhs, columns=['NIM','Nama','Jurusan'])\n",
    "df_list"
   ]
  },
  {
   "cell_type": "code",
   "execution_count": 29,
   "metadata": {},
   "outputs": [
    {
     "data": {
      "text/html": [
       "<div>\n",
       "<style scoped>\n",
       "    .dataframe tbody tr th:only-of-type {\n",
       "        vertical-align: middle;\n",
       "    }\n",
       "\n",
       "    .dataframe tbody tr th {\n",
       "        vertical-align: top;\n",
       "    }\n",
       "\n",
       "    .dataframe thead th {\n",
       "        text-align: right;\n",
       "    }\n",
       "</style>\n",
       "<table border=\"1\" class=\"dataframe\">\n",
       "  <thead>\n",
       "    <tr style=\"text-align: right;\">\n",
       "      <th></th>\n",
       "      <th>Jenis</th>\n",
       "      <th>Berat (kg)</th>\n",
       "      <th>Daur ulang</th>\n",
       "    </tr>\n",
       "  </thead>\n",
       "  <tbody>\n",
       "    <tr>\n",
       "      <th>0</th>\n",
       "      <td>Plastik</td>\n",
       "      <td>5</td>\n",
       "      <td>True</td>\n",
       "    </tr>\n",
       "    <tr>\n",
       "      <th>1</th>\n",
       "      <td>Kertas</td>\n",
       "      <td>2</td>\n",
       "      <td>True</td>\n",
       "    </tr>\n",
       "    <tr>\n",
       "      <th>2</th>\n",
       "      <td>Logam</td>\n",
       "      <td>3</td>\n",
       "      <td>True</td>\n",
       "    </tr>\n",
       "    <tr>\n",
       "      <th>3</th>\n",
       "      <td>Kaca</td>\n",
       "      <td>4</td>\n",
       "      <td>False</td>\n",
       "    </tr>\n",
       "  </tbody>\n",
       "</table>\n",
       "</div>"
      ],
      "text/plain": [
       "     Jenis  Berat (kg)  Daur ulang\n",
       "0  Plastik           5        True\n",
       "1   Kertas           2        True\n",
       "2    Logam           3        True\n",
       "3     Kaca           4       False"
      ]
     },
     "execution_count": 29,
     "metadata": {},
     "output_type": "execute_result"
    }
   ],
   "source": [
    "# data frame dengan dictionary\n",
    "\n",
    "data_kamus = {\n",
    "    'Jenis':['Plastik','Kertas', 'Logam','Kaca'],\n",
    "    'Berat (kg)':[5,2,3,4],\n",
    "    'Daur ulang':[True,True,True,False]\n",
    "}\n",
    "\n",
    "df_kamus = pd.DataFrame(data_kamus)\n",
    "df_kamus"
   ]
  },
  {
   "cell_type": "code",
   "execution_count": 20,
   "metadata": {},
   "outputs": [
    {
     "name": "stdout",
     "output_type": "stream",
     "text": [
      "Kaca\n",
      "Kertas\n"
     ]
    }
   ],
   "source": [
    "# Mengakses dalam baris ke\n",
    "a = df_kamus.loc[3,'Jenis']\n",
    "b = df_kamus.iloc[1,0]\n",
    "print(a)\n",
    "print(b)"
   ]
  },
  {
   "cell_type": "code",
   "execution_count": 23,
   "metadata": {},
   "outputs": [
    {
     "name": "stdout",
     "output_type": "stream",
     "text": [
      "perulangan ke 1 jenisnya adalah\n",
      "Plastik\n",
      "perulangan ke 2 jenisnya adalah\n",
      "Kertas\n",
      "perulangan ke 3 jenisnya adalah\n",
      "Logam\n",
      "perulangan ke 4 jenisnya adalah\n",
      "Kaca\n"
     ]
    }
   ],
   "source": [
    "# <!-- menggunakan iterrows untuk mengiterasi setiap baris -->\n",
    "for i, row in df_kamus.iterrows():\n",
    "    print(f\"perulangan ke {i+1} jenisnya adalah\\n{row['Jenis']}\")"
   ]
  },
  {
   "cell_type": "code",
   "execution_count": 32,
   "metadata": {},
   "outputs": [
    {
     "name": "stdout",
     "output_type": "stream",
     "text": [
      "Yang bisa di daur ulang:Plastik\n",
      "Yang bisa di daur ulang:Kertas\n",
      "Yang bisa di daur ulang:Logam\n"
     ]
    }
   ],
   "source": [
    "for i, row in df_kamus.iterrows():\n",
    "    if row['Daur ulang'] == True:\n",
    "        print(f\"Yang bisa di daur ulang:{row['Jenis']}\")"
   ]
  },
  {
   "cell_type": "code",
   "execution_count": 12,
   "metadata": {},
   "outputs": [],
   "source": [
    "# coba export\n",
    "df_list.to_csv('coba_export_list.csv',index=False)\n",
    "df_list.to_excel('coba_excel.xlsx',index=False)"
   ]
  },
  {
   "cell_type": "code",
   "execution_count": 16,
   "metadata": {},
   "outputs": [
    {
     "data": {
      "text/html": [
       "<div>\n",
       "<style scoped>\n",
       "    .dataframe tbody tr th:only-of-type {\n",
       "        vertical-align: middle;\n",
       "    }\n",
       "\n",
       "    .dataframe tbody tr th {\n",
       "        vertical-align: top;\n",
       "    }\n",
       "\n",
       "    .dataframe thead th {\n",
       "        text-align: right;\n",
       "    }\n",
       "</style>\n",
       "<table border=\"1\" class=\"dataframe\">\n",
       "  <thead>\n",
       "    <tr style=\"text-align: right;\">\n",
       "      <th></th>\n",
       "      <th>NIM</th>\n",
       "      <th>Nama</th>\n",
       "      <th>Jurusan</th>\n",
       "    </tr>\n",
       "  </thead>\n",
       "  <tbody>\n",
       "    <tr>\n",
       "      <th>0</th>\n",
       "      <td>152023179</td>\n",
       "      <td>Fadilah</td>\n",
       "      <td>If</td>\n",
       "    </tr>\n",
       "    <tr>\n",
       "      <th>1</th>\n",
       "      <td>152023187</td>\n",
       "      <td>Hikam</td>\n",
       "      <td>If</td>\n",
       "    </tr>\n",
       "    <tr>\n",
       "      <th>2</th>\n",
       "      <td>152023199</td>\n",
       "      <td>Naura</td>\n",
       "      <td>If</td>\n",
       "    </tr>\n",
       "  </tbody>\n",
       "</table>\n",
       "</div>"
      ],
      "text/plain": [
       "         NIM     Nama Jurusan\n",
       "0  152023179  Fadilah      If\n",
       "1  152023187    Hikam      If\n",
       "2  152023199    Naura      If"
      ]
     },
     "execution_count": 16,
     "metadata": {},
     "output_type": "execute_result"
    }
   ],
   "source": [
    "import pandas as pd\n",
    "# bisa baca file excel\n",
    "df_excel = pd.read_excel('coba_excel.xlsx',sheet_name='Sheet1')\n",
    "df_excel"
   ]
  },
  {
   "cell_type": "code",
   "execution_count": 18,
   "metadata": {},
   "outputs": [
    {
     "data": {
      "text/plain": [
       "0    If\n",
       "1    If\n",
       "2    If\n",
       "Name: Jurusan, dtype: object"
      ]
     },
     "execution_count": 18,
     "metadata": {},
     "output_type": "execute_result"
    }
   ],
   "source": [
    "# untuk membaca hanya satu kolom\n",
    "filter_df = df_excel['Jurusan']\n",
    "filter_df"
   ]
  }
 ],
 "metadata": {
  "kernelspec": {
   "display_name": "Python 3",
   "language": "python",
   "name": "python3"
  },
  "language_info": {
   "codemirror_mode": {
    "name": "ipython",
    "version": 3
   },
   "file_extension": ".py",
   "mimetype": "text/x-python",
   "name": "python",
   "nbconvert_exporter": "python",
   "pygments_lexer": "ipython3",
   "version": "3.12.6"
  }
 },
 "nbformat": 4,
 "nbformat_minor": 2
}
