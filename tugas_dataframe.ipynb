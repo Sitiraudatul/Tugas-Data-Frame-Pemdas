{
 "cells": [
  {
   "cell_type": "code",
   "execution_count": null,
   "metadata": {},
   "outputs": [],
   "source": [
    "import pandas as pd\n",
    "# 1.Dengan menggunakan pustaka pandas di Python, buatlah sebuah DataFrame dari data jumlah produksi sampah \n",
    "# berdasarkan Kabupaten/Kota di Jawa Barat. Pastikan kolom-kolomnya menyertakan nama Kabupaten/Kota, \n",
    "# jumlah produksi sampah (dalam ton), dan tahun pencatatan\n",
    "\n",
    "df_excel = pd.read_excel('D:/Semester 3/Pemdas/data.jabarprov.go.id/disperkim-od_16985_jumlah_produksi_sampah_berdasarkan_kabupatenkota_v3_data.xlsx',sheet_name='data')\n",
    "df_excel\n",
    "print(df_excel.to_string())\n"
   ]
  },
  {
   "cell_type": "code",
   "execution_count": 13,
   "metadata": {},
   "outputs": [
    {
     "name": "stdout",
     "output_type": "stream",
     "text": [
      "Total produksi sampah di seluruh Kabupaten/Kota di Jawa Barat untuk tahun 2021 sebanyak:  15735.36 ton\n"
     ]
    }
   ],
   "source": [
    "# 2.Dari DataFrame yang telah dibuat, hitunglah total produksi sampah \n",
    "# di seluruh Kabupaten/Kota di Jawa Barat untuk tahun tertentu. Tampilkan hasilnya\n",
    "\n",
    "thn_pilihan = 2021\n",
    "total_produksi_sampah = 0\n",
    "\n",
    "for i, row in df_excel.iterrows():\n",
    "    if row['tahun']  == thn_pilihan:\n",
    "        total_produksi_sampah += row['jumlah_produksi_sampah']\n",
    "\n",
    "print(f\"Total produksi sampah di seluruh Kabupaten/Kota di Jawa Barat untuk tahun {thn_pilihan} sebanyak: {total_produksi_sampah: .2f} ton\")        \n"
   ]
  },
  {
   "cell_type": "code",
   "execution_count": null,
   "metadata": {},
   "outputs": [
    {
     "name": "stdout",
     "output_type": "stream",
     "text": [
      "Jumlah data sampah pertahun adalah:\n",
      "\n",
      "Tahun 2015: 1511.15 ton\n",
      "Tahun 2016: 1511.15 ton\n",
      "Tahun 2017: 1511.15 ton\n",
      "Tahun 2018: 1716.80 ton\n",
      "Tahun 2019: 2914.65 ton\n",
      "Tahun 2020: 2977.00 ton\n",
      "Tahun 2021: 971.59 ton\n",
      "Tahun 2022: nan ton\n",
      "Tahun 2023: nan ton\n"
     ]
    }
   ],
   "source": [
    "# 3.Jumlahkan Data Pertahun\n",
    "\n",
    "DataSampah_pertahun = {}\n",
    "\n",
    "for i, row in df_excel.iterrows():\n",
    "    tahun = row['tahun']\n",
    "    jumlah_sampah = row['jumlah_produksi_sampah']\n",
    "    if tahun not in DataSampah_pertahun:\n",
    "        DataSampah_pertahun[tahun] = 0\n",
    "        DataSampah_pertahun[tahun] += jumlah_sampah\n",
    "\n",
    "print(\"Jumlah data sampah pertahun adalah:\\n\")\n",
    "for tahun, jumlah in DataSampah_pertahun.items():\n",
    "    print(f\"Tahun {tahun}: {jumlah:.2f} ton\")\n",
    "\n",
    "df_excel_DataSampah_pertahun = pd.DataFrame(list(DataSampah_pertahun.items()),\n",
    "                                            columns=['Tahun','Total Produksi Sampah (ton)'])"
   ]
  },
  {
   "cell_type": "code",
   "execution_count": null,
   "metadata": {},
   "outputs": [
    {
     "name": "stdout",
     "output_type": "stream",
     "text": [
      "Data dieksport ke CSV.\n",
      "\n",
      "Buka file CSV.\n",
      "\n"
     ]
    }
   ],
   "source": [
    "#Mengeksport ke CSV\n",
    "df_excel_DataSampah_pertahun.to_csv('DataSampah_pertahun.csv', index=False)\n",
    "print(\"Data dieksport ke CSV.\\n\")\n",
    "\n",
    "# Membuka file CSV\n",
    "df_excel_DataSampah_pertahun_csv = pd.read_csv('DataSampah_pertahun.csv')\n",
    "print(\"Buka file CSV.\\n\")\n"
   ]
  },
  {
   "cell_type": "code",
   "execution_count": null,
   "metadata": {},
   "outputs": [],
   "source": [
    "# export ke excel\n",
    "df_excel_DataSampah_pertahun.to_excel('DataSampah_pertahun.xlsx', index=False)\n",
    "print(\"Data berhasil di export ke excel.\\n\")\n",
    "\n",
    "# membuka file excel\n",
    "df_excel_DataSampah_pertahun_excel = pd.read_excel('DataSampah_pertahun.xlsx')\n",
    "print('Buka file excel')"
   ]
  },
  {
   "cell_type": "code",
   "execution_count": null,
   "metadata": {},
   "outputs": [],
   "source": [
    "# 4. Jumlahkan data per Kota/Kabupaten per tahun\n",
    "\n",
    "DataSampah_kota_pertahun = {}\n",
    "\n",
    "for index, row in df_excel.iterrows():\n",
    "    kota = row['nama_kabupaten_kota']\n",
    "    tahun = row['tahun']\n",
    "    jumlah_sampah = row['jumlah_produksi_sampah']  \n",
    "    \n",
    "    key = (kota, tahun)   \n",
    "    if key not in DataSampah_kota_pertahun:\n",
    "        DataSampah_kota_pertahun[key] = 0\n",
    "    DataSampah_kota_pertahun[key] += jumlah_sampah\n",
    "print(\"Jumlah produksi sampah tiap Kota/Kabupaten per tahun adalah sebagai berikut:\\n\")\n",
    "\n",
    "for (kota, tahun), total in DataSampah_kota_pertahun.items():\n",
    "    print(f\"{kota}\")\n",
    "    print(f\"Tahun {tahun} : {total} ton\\n\")\n",
    "\n",
    "df_datasampah = pd.DataFrame(list(DataSampah_kota_pertahun.items()), \n",
    "                                     columns=['Tahun', 'Total Produksi Sampah (ton)'])"
   ]
  },
  {
   "cell_type": "code",
   "execution_count": 31,
   "metadata": {},
   "outputs": [
    {
     "name": "stdout",
     "output_type": "stream",
     "text": [
      "Data dieksport ke CSV.\n",
      "\n",
      "Buka file CSV.\n",
      "\n"
     ]
    }
   ],
   "source": [
    "#Mengeksport ke CSV\n",
    "df_datasampah.to_csv('DataSampah_kota_pertahun.csv', index=False)\n",
    "print(\"Data dieksport ke CSV.\\n\")\n",
    "\n",
    "# Membuka file CSV\n",
    "df_datasampah_csv = pd.read_csv('DataSampah_kota_pertahun.csv')\n",
    "print(\"Buka file CSV.\\n\")\n"
   ]
  },
  {
   "cell_type": "code",
   "execution_count": 32,
   "metadata": {},
   "outputs": [
    {
     "name": "stdout",
     "output_type": "stream",
     "text": [
      "Data berhasil di export ke excel.\n",
      "\n",
      "Buka file excel\n"
     ]
    }
   ],
   "source": [
    "# export ke excel\n",
    "df_datasampah.to_excel('DataSampah_kota_pertahun.xlsx', index=False)\n",
    "print(\"Data berhasil di export ke excel.\\n\")\n",
    "\n",
    "# membuka file excel\n",
    "df_datasampah_excel = pd.read_excel('DataSampah_kota_pertahun.xlsx')\n",
    "print('Buka file excel')"
   ]
  }
 ],
 "metadata": {
  "kernelspec": {
   "display_name": "Python 3",
   "language": "python",
   "name": "python3"
  },
  "language_info": {
   "codemirror_mode": {
    "name": "ipython",
    "version": 3
   },
   "file_extension": ".py",
   "mimetype": "text/x-python",
   "name": "python",
   "nbconvert_exporter": "python",
   "pygments_lexer": "ipython3",
   "version": "3.12.6"
  }
 },
 "nbformat": 4,
 "nbformat_minor": 2
}
